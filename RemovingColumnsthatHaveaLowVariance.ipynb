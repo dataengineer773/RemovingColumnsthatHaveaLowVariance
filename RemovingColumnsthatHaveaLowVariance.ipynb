{
 "cells": [
  {
   "cell_type": "code",
   "execution_count": 1,
   "id": "410a30cc-452f-47fa-ac3a-0198e6c8e9cb",
   "metadata": {},
   "outputs": [],
   "source": [
    "# applyng the varince threshhold for feature selection\n",
    "from pandas import read_csv\n",
    "from sklearn.feature_selection import VarianceThreshold"
   ]
  },
  {
   "cell_type": "code",
   "execution_count": 2,
   "id": "d8de39ea-e9f1-48ba-a13b-ff8277d068c9",
   "metadata": {},
   "outputs": [],
   "source": [
    "# load the dataset\n",
    "df = read_csv('oil-spill.csv', header = None)"
   ]
  },
  {
   "cell_type": "code",
   "execution_count": 3,
   "id": "aeef1a5d-09a8-4491-935d-a1eb698cfde5",
   "metadata": {},
   "outputs": [
    {
     "name": "stdout",
     "output_type": "stream",
     "text": [
      "(937, 49) (937,)\n"
     ]
    }
   ],
   "source": [
    "# split data into inputs and outputs\n",
    "data = df.values\n",
    "X = data[:, :-1]\n",
    "y = data[:, -1]\n",
    "print(X.shape, y.shape)"
   ]
  },
  {
   "cell_type": "code",
   "execution_count": 4,
   "id": "a4a7a9d3-8440-4055-b2f7-0c95e6797098",
   "metadata": {},
   "outputs": [],
   "source": [
    "# define the transform\n",
    "transform = VarianceThreshold()"
   ]
  },
  {
   "cell_type": "code",
   "execution_count": 5,
   "id": "4e7cc626-5f4b-4fe0-9873-f0f66207bf9d",
   "metadata": {},
   "outputs": [
    {
     "name": "stdout",
     "output_type": "stream",
     "text": [
      "(937, 48)\n"
     ]
    }
   ],
   "source": [
    "# # transform the input data\n",
    "X_sel = transform.fit_transform(X)\n",
    "print(X_sel.shape)"
   ]
  }
 ],
 "metadata": {
  "kernelspec": {
   "display_name": "Python 3 (ipykernel)",
   "language": "python",
   "name": "python3"
  },
  "language_info": {
   "codemirror_mode": {
    "name": "ipython",
    "version": 3
   },
   "file_extension": ".py",
   "mimetype": "text/x-python",
   "name": "python",
   "nbconvert_exporter": "python",
   "pygments_lexer": "ipython3",
   "version": "3.10.12"
  }
 },
 "nbformat": 4,
 "nbformat_minor": 5
}
